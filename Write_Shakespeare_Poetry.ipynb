{
  "nbformat": 4,
  "nbformat_minor": 0,
  "metadata": {
    "accelerator": "GPU",
    "colab": {
      "name": "Write_Shakespeare_Poetry.ipynb",
      "provenance": [],
      "collapsed_sections": [],
      "include_colab_link": true
    },
    "kernelspec": {
      "display_name": "Python 3",
      "name": "python3"
    }
  },
  "cells": [
    {
      "cell_type": "markdown",
      "metadata": {
        "id": "view-in-github",
        "colab_type": "text"
      },
      "source": [
        "<a href=\"https://colab.research.google.com/github/OmarMedhat22/Write-Shakespeare-Poetry/blob/master/Write_Shakespeare_Poetry.ipynb\" target=\"_parent\"><img src=\"https://colab.research.google.com/assets/colab-badge.svg\" alt=\"Open In Colab\"/></a>"
      ]
    },
    {
      "cell_type": "code",
      "metadata": {
        "id": "zX4Kg8DUTKWO",
        "colab_type": "code",
        "colab": {}
      },
      "source": [
        "#@title Licensed under the Apache License, Version 2.0 (the \"License\");\n",
        "# you may not use this file except in compliance with the License.\n",
        "# You may obtain a copy of the License at\n",
        "#\n",
        "# https://www.apache.org/licenses/LICENSE-2.0\n",
        "#\n",
        "# Unless required by applicable law or agreed to in writing, software\n",
        "# distributed under the License is distributed on an \"AS IS\" BASIS,\n",
        "# WITHOUT WARRANTIES OR CONDITIONS OF ANY KIND, either express or implied.\n",
        "# See the License for the specific language governing permissions and\n",
        "# limitations under the License."
      ],
      "execution_count": 0,
      "outputs": []
    },
    {
      "cell_type": "code",
      "metadata": {
        "colab_type": "code",
        "id": "BOwsuGQQY9OL",
        "colab": {}
      },
      "source": [
        "from tensorflow.keras.preprocessing.sequence import pad_sequences\n",
        "from tensorflow.keras.layers import Embedding, LSTM, Dense, Dropout, Bidirectional\n",
        "from tensorflow.keras.preprocessing.text import Tokenizer\n",
        "from tensorflow.keras.models import Sequential\n",
        "from tensorflow.keras.optimizers import Adam\n",
        "import tensorflow.keras.utils as ku \n",
        "import numpy as np "
      ],
      "execution_count": 0,
      "outputs": []
    },
    {
      "cell_type": "code",
      "metadata": {
        "colab_type": "code",
        "id": "PRnDnCW-Z7qv",
        "outputId": "442746de-961d-4008-baa0-3e7bc265272d",
        "colab": {
          "base_uri": "https://localhost:8080/",
          "height": 204
        }
      },
      "source": [
        "tokenizer = Tokenizer()\n",
        "!wget --no-check-certificate \\\n",
        "    https://storage.googleapis.com/laurencemoroney-blog.appspot.com/sonnets.txt \\\n",
        "    -O /tmp/sonnets.txt\n",
        "data = open('/tmp/sonnets.txt').read()\n",
        "\n",
        "corpus = data.lower().split(\"\\n\")\n",
        "\n",
        "\n",
        "tokenizer.fit_on_texts(corpus)\n",
        "total_words = len(tokenizer.word_index) + 1\n",
        "\n",
        "# create input sequences using list of tokens\n",
        "input_sequences = []\n",
        "for line in corpus:\n",
        "\ttoken_list = tokenizer.texts_to_sequences([line])[0]\n",
        "\tfor i in range(1, len(token_list)):\n",
        "\t\tn_gram_sequence = token_list[:i+1]\n",
        "\t\tinput_sequences.append(n_gram_sequence)\n",
        "\n",
        "\n",
        "# pad sequences \n",
        "max_sequence_len = max([len(x) for x in input_sequences])\n",
        "input_sequences = np.array(pad_sequences(input_sequences, maxlen=max_sequence_len, padding='pre'))\n",
        "\n",
        "# create predictors and label\n",
        "predictors, label = input_sequences[:,:-1],input_sequences[:,-1]\n",
        "\n",
        "label = ku.to_categorical(label, num_classes=total_words)"
      ],
      "execution_count": 0,
      "outputs": [
        {
          "output_type": "stream",
          "text": [
            "--2020-05-27 16:31:39--  https://storage.googleapis.com/laurencemoroney-blog.appspot.com/sonnets.txt\n",
            "Resolving storage.googleapis.com (storage.googleapis.com)... 74.125.20.128, 2607:f8b0:400e:c07::80\n",
            "Connecting to storage.googleapis.com (storage.googleapis.com)|74.125.20.128|:443... connected.\n",
            "HTTP request sent, awaiting response... 200 OK\n",
            "Length: 93578 (91K) [text/plain]\n",
            "Saving to: ‘/tmp/sonnets.txt’\n",
            "\n",
            "\r/tmp/sonnets.txt      0%[                    ]       0  --.-KB/s               \r/tmp/sonnets.txt    100%[===================>]  91.38K  --.-KB/s    in 0.001s  \n",
            "\n",
            "2020-05-27 16:31:39 (99.9 MB/s) - ‘/tmp/sonnets.txt’ saved [93578/93578]\n",
            "\n"
          ],
          "name": "stdout"
        }
      ]
    },
    {
      "cell_type": "code",
      "metadata": {
        "colab_type": "code",
        "id": "w9vH8Y59ajYL",
        "outputId": "b9ba7d79-da73-483c-88ce-b81ad28a9bc2",
        "colab": {
          "base_uri": "https://localhost:8080/",
          "height": 374
        }
      },
      "source": [
        "\n",
        "model = Sequential()\n",
        "model.add(Embedding(total_words,64,input_length=max_sequence_len-1))\n",
        "model.add(Bidirectional(LSTM(24,return_sequences = True)))\n",
        "model.add(Dropout(0.2))\n",
        "model.add(Bidirectional(LSTM(12)))\n",
        "model.add(Dense(60,activation='relu'))\n",
        "model.add(Dense(total_words,activation='softmax'))\n",
        "# Pick an optimizer\n",
        "model.compile(loss='categorical_crossentropy',optimizer='adam',metrics=['accuracy'])\n",
        "print(model.summary())\n"
      ],
      "execution_count": 0,
      "outputs": [
        {
          "output_type": "stream",
          "text": [
            "Model: \"sequential_12\"\n",
            "_________________________________________________________________\n",
            "Layer (type)                 Output Shape              Param #   \n",
            "=================================================================\n",
            "embedding_11 (Embedding)     (None, 10, 64)            205504    \n",
            "_________________________________________________________________\n",
            "bidirectional_15 (Bidirectio (None, 10, 48)            17088     \n",
            "_________________________________________________________________\n",
            "dropout_10 (Dropout)         (None, 10, 48)            0         \n",
            "_________________________________________________________________\n",
            "bidirectional_16 (Bidirectio (None, 24)                5856      \n",
            "_________________________________________________________________\n",
            "dense_4 (Dense)              (None, 60)                1500      \n",
            "_________________________________________________________________\n",
            "dense_5 (Dense)              (None, 3211)              195871    \n",
            "=================================================================\n",
            "Total params: 425,819\n",
            "Trainable params: 425,819\n",
            "Non-trainable params: 0\n",
            "_________________________________________________________________\n",
            "None\n"
          ],
          "name": "stdout"
        }
      ]
    },
    {
      "cell_type": "code",
      "metadata": {
        "colab_type": "code",
        "id": "AIg2f1HBxqof",
        "outputId": "3cfe7a62-9c85-4eda-ce36-71d69c70923c",
        "colab": {
          "base_uri": "https://localhost:8080/",
          "height": 1000
        }
      },
      "source": [
        " history = model.fit(predictors, label, epochs=100, verbose=1)"
      ],
      "execution_count": 0,
      "outputs": [
        {
          "output_type": "stream",
          "text": [
            "Epoch 1/100\n",
            "484/484 [==============================] - 6s 11ms/step - loss: 6.9066 - accuracy: 0.0213\n",
            "Epoch 2/100\n",
            "484/484 [==============================] - 5s 11ms/step - loss: 6.4957 - accuracy: 0.0244\n",
            "Epoch 3/100\n",
            "484/484 [==============================] - 5s 11ms/step - loss: 6.3621 - accuracy: 0.0320\n",
            "Epoch 4/100\n",
            "484/484 [==============================] - 5s 11ms/step - loss: 6.2299 - accuracy: 0.0358\n",
            "Epoch 5/100\n",
            "484/484 [==============================] - 5s 11ms/step - loss: 6.1102 - accuracy: 0.0363\n",
            "Epoch 6/100\n",
            "484/484 [==============================] - 5s 11ms/step - loss: 6.0042 - accuracy: 0.0414\n",
            "Epoch 7/100\n",
            "484/484 [==============================] - 5s 11ms/step - loss: 5.9102 - accuracy: 0.0443\n",
            "Epoch 8/100\n",
            "484/484 [==============================] - 5s 11ms/step - loss: 5.8235 - accuracy: 0.0470\n",
            "Epoch 9/100\n",
            "484/484 [==============================] - 5s 11ms/step - loss: 5.7296 - accuracy: 0.0490\n",
            "Epoch 10/100\n",
            "484/484 [==============================] - 5s 11ms/step - loss: 5.6259 - accuracy: 0.0543\n",
            "Epoch 11/100\n",
            "484/484 [==============================] - 5s 11ms/step - loss: 5.5220 - accuracy: 0.0578\n",
            "Epoch 12/100\n",
            "484/484 [==============================] - 5s 11ms/step - loss: 5.4161 - accuracy: 0.0607\n",
            "Epoch 13/100\n",
            "484/484 [==============================] - 5s 11ms/step - loss: 5.3184 - accuracy: 0.0644\n",
            "Epoch 14/100\n",
            "484/484 [==============================] - 5s 11ms/step - loss: 5.2229 - accuracy: 0.0691\n",
            "Epoch 15/100\n",
            "484/484 [==============================] - 5s 11ms/step - loss: 5.1263 - accuracy: 0.0744\n",
            "Epoch 16/100\n",
            "484/484 [==============================] - 5s 11ms/step - loss: 5.0300 - accuracy: 0.0774\n",
            "Epoch 17/100\n",
            "484/484 [==============================] - 5s 11ms/step - loss: 4.9388 - accuracy: 0.0818\n",
            "Epoch 18/100\n",
            "484/484 [==============================] - 5s 11ms/step - loss: 4.8496 - accuracy: 0.0891\n",
            "Epoch 19/100\n",
            "484/484 [==============================] - 5s 11ms/step - loss: 4.7635 - accuracy: 0.0907\n",
            "Epoch 20/100\n",
            "484/484 [==============================] - 5s 11ms/step - loss: 4.6730 - accuracy: 0.0945\n",
            "Epoch 21/100\n",
            "484/484 [==============================] - 5s 11ms/step - loss: 4.5889 - accuracy: 0.1004\n",
            "Epoch 22/100\n",
            "484/484 [==============================] - 5s 10ms/step - loss: 4.4959 - accuracy: 0.1092\n",
            "Epoch 23/100\n",
            "484/484 [==============================] - 5s 10ms/step - loss: 4.4224 - accuracy: 0.1158\n",
            "Epoch 24/100\n",
            "484/484 [==============================] - 5s 11ms/step - loss: 4.3436 - accuracy: 0.1215\n",
            "Epoch 25/100\n",
            "484/484 [==============================] - 5s 11ms/step - loss: 4.2656 - accuracy: 0.1284\n",
            "Epoch 26/100\n",
            "484/484 [==============================] - 5s 10ms/step - loss: 4.1816 - accuracy: 0.1427\n",
            "Epoch 27/100\n",
            "484/484 [==============================] - 5s 10ms/step - loss: 4.1167 - accuracy: 0.1476\n",
            "Epoch 28/100\n",
            "484/484 [==============================] - 5s 10ms/step - loss: 4.0440 - accuracy: 0.1553\n",
            "Epoch 29/100\n",
            "484/484 [==============================] - 5s 11ms/step - loss: 3.9637 - accuracy: 0.1680\n",
            "Epoch 30/100\n",
            "484/484 [==============================] - 5s 10ms/step - loss: 3.9033 - accuracy: 0.1756\n",
            "Epoch 31/100\n",
            "484/484 [==============================] - 5s 11ms/step - loss: 3.8411 - accuracy: 0.1824\n",
            "Epoch 32/100\n",
            "484/484 [==============================] - 5s 10ms/step - loss: 3.7898 - accuracy: 0.1916\n",
            "Epoch 33/100\n",
            "484/484 [==============================] - 5s 10ms/step - loss: 3.7254 - accuracy: 0.1999\n",
            "Epoch 34/100\n",
            "484/484 [==============================] - 5s 10ms/step - loss: 3.6749 - accuracy: 0.2086\n",
            "Epoch 35/100\n",
            "484/484 [==============================] - 5s 10ms/step - loss: 3.6219 - accuracy: 0.2173\n",
            "Epoch 36/100\n",
            "484/484 [==============================] - 5s 10ms/step - loss: 3.5588 - accuracy: 0.2304\n",
            "Epoch 37/100\n",
            "484/484 [==============================] - 5s 10ms/step - loss: 3.5112 - accuracy: 0.2389\n",
            "Epoch 38/100\n",
            "484/484 [==============================] - 5s 10ms/step - loss: 3.4704 - accuracy: 0.2409\n",
            "Epoch 39/100\n",
            "484/484 [==============================] - 5s 11ms/step - loss: 3.4221 - accuracy: 0.2548\n",
            "Epoch 40/100\n",
            "484/484 [==============================] - 5s 11ms/step - loss: 3.3645 - accuracy: 0.2615\n",
            "Epoch 41/100\n",
            "484/484 [==============================] - 5s 10ms/step - loss: 3.3200 - accuracy: 0.2668\n",
            "Epoch 42/100\n",
            "484/484 [==============================] - 5s 10ms/step - loss: 3.2848 - accuracy: 0.2737\n",
            "Epoch 43/100\n",
            "484/484 [==============================] - 5s 10ms/step - loss: 3.2471 - accuracy: 0.2785\n",
            "Epoch 44/100\n",
            "484/484 [==============================] - 5s 10ms/step - loss: 3.1994 - accuracy: 0.2888\n",
            "Epoch 45/100\n",
            "484/484 [==============================] - 5s 10ms/step - loss: 3.1692 - accuracy: 0.2975\n",
            "Epoch 46/100\n",
            "484/484 [==============================] - 5s 10ms/step - loss: 3.1306 - accuracy: 0.2998\n",
            "Epoch 47/100\n",
            "484/484 [==============================] - 5s 10ms/step - loss: 3.0907 - accuracy: 0.3091\n",
            "Epoch 48/100\n",
            "484/484 [==============================] - 5s 10ms/step - loss: 3.0470 - accuracy: 0.3165\n",
            "Epoch 49/100\n",
            "484/484 [==============================] - 5s 10ms/step - loss: 3.0241 - accuracy: 0.3187\n",
            "Epoch 50/100\n",
            "484/484 [==============================] - 5s 10ms/step - loss: 2.9843 - accuracy: 0.3271\n",
            "Epoch 51/100\n",
            "484/484 [==============================] - 5s 10ms/step - loss: 2.9587 - accuracy: 0.3312\n",
            "Epoch 52/100\n",
            "484/484 [==============================] - 5s 10ms/step - loss: 2.9202 - accuracy: 0.3404\n",
            "Epoch 53/100\n",
            "484/484 [==============================] - 5s 10ms/step - loss: 2.8921 - accuracy: 0.3432\n",
            "Epoch 54/100\n",
            "484/484 [==============================] - 5s 11ms/step - loss: 2.8698 - accuracy: 0.3473\n",
            "Epoch 55/100\n",
            "484/484 [==============================] - 5s 11ms/step - loss: 2.8298 - accuracy: 0.3549\n",
            "Epoch 56/100\n",
            "484/484 [==============================] - 5s 10ms/step - loss: 2.7917 - accuracy: 0.3613\n",
            "Epoch 57/100\n",
            "484/484 [==============================] - 5s 10ms/step - loss: 2.7757 - accuracy: 0.3675\n",
            "Epoch 58/100\n",
            "484/484 [==============================] - 5s 10ms/step - loss: 2.7468 - accuracy: 0.3719\n",
            "Epoch 59/100\n",
            "484/484 [==============================] - 5s 10ms/step - loss: 2.7216 - accuracy: 0.3765\n",
            "Epoch 60/100\n",
            "484/484 [==============================] - 5s 10ms/step - loss: 2.6884 - accuracy: 0.3851\n",
            "Epoch 61/100\n",
            "484/484 [==============================] - 5s 10ms/step - loss: 2.6722 - accuracy: 0.3888\n",
            "Epoch 62/100\n",
            "484/484 [==============================] - 5s 10ms/step - loss: 2.6527 - accuracy: 0.3908\n",
            "Epoch 63/100\n",
            "484/484 [==============================] - 5s 10ms/step - loss: 2.6170 - accuracy: 0.3970\n",
            "Epoch 64/100\n",
            "484/484 [==============================] - 5s 10ms/step - loss: 2.6041 - accuracy: 0.3983\n",
            "Epoch 65/100\n",
            "484/484 [==============================] - 5s 10ms/step - loss: 2.5750 - accuracy: 0.4089\n",
            "Epoch 66/100\n",
            "484/484 [==============================] - 5s 10ms/step - loss: 2.5535 - accuracy: 0.4079\n",
            "Epoch 67/100\n",
            "484/484 [==============================] - 5s 10ms/step - loss: 2.5124 - accuracy: 0.4175\n",
            "Epoch 68/100\n",
            "484/484 [==============================] - 5s 10ms/step - loss: 2.4946 - accuracy: 0.4194\n",
            "Epoch 69/100\n",
            "484/484 [==============================] - 5s 10ms/step - loss: 2.4962 - accuracy: 0.4157\n",
            "Epoch 70/100\n",
            "484/484 [==============================] - 5s 10ms/step - loss: 2.4662 - accuracy: 0.4267\n",
            "Epoch 71/100\n",
            "484/484 [==============================] - 5s 10ms/step - loss: 2.4329 - accuracy: 0.4287\n",
            "Epoch 72/100\n",
            "484/484 [==============================] - 5s 10ms/step - loss: 2.4205 - accuracy: 0.4355\n",
            "Epoch 73/100\n",
            "484/484 [==============================] - 5s 10ms/step - loss: 2.4039 - accuracy: 0.4406\n",
            "Epoch 74/100\n",
            "484/484 [==============================] - 5s 10ms/step - loss: 2.3630 - accuracy: 0.4481\n",
            "Epoch 75/100\n",
            "484/484 [==============================] - 5s 10ms/step - loss: 2.3608 - accuracy: 0.4485\n",
            "Epoch 76/100\n",
            "484/484 [==============================] - 5s 10ms/step - loss: 2.3378 - accuracy: 0.4521\n",
            "Epoch 77/100\n",
            "484/484 [==============================] - 5s 10ms/step - loss: 2.3265 - accuracy: 0.4526\n",
            "Epoch 78/100\n",
            "484/484 [==============================] - 5s 10ms/step - loss: 2.3027 - accuracy: 0.4589\n",
            "Epoch 79/100\n",
            "484/484 [==============================] - 5s 10ms/step - loss: 2.2821 - accuracy: 0.4645\n",
            "Epoch 80/100\n",
            "484/484 [==============================] - 5s 10ms/step - loss: 2.2746 - accuracy: 0.4621\n",
            "Epoch 81/100\n",
            "484/484 [==============================] - 5s 10ms/step - loss: 2.2507 - accuracy: 0.4669\n",
            "Epoch 82/100\n",
            "484/484 [==============================] - 5s 10ms/step - loss: 2.2330 - accuracy: 0.4732\n",
            "Epoch 83/100\n",
            "484/484 [==============================] - 5s 10ms/step - loss: 2.2278 - accuracy: 0.4750\n",
            "Epoch 84/100\n",
            "484/484 [==============================] - 5s 10ms/step - loss: 2.1990 - accuracy: 0.4811\n",
            "Epoch 85/100\n",
            "484/484 [==============================] - 5s 10ms/step - loss: 2.1862 - accuracy: 0.4818\n",
            "Epoch 86/100\n",
            "484/484 [==============================] - 5s 10ms/step - loss: 2.1730 - accuracy: 0.4854\n",
            "Epoch 87/100\n",
            "484/484 [==============================] - 5s 10ms/step - loss: 2.1551 - accuracy: 0.4891\n",
            "Epoch 88/100\n",
            "484/484 [==============================] - 5s 10ms/step - loss: 2.1507 - accuracy: 0.4882\n",
            "Epoch 89/100\n",
            "484/484 [==============================] - 5s 10ms/step - loss: 2.1071 - accuracy: 0.4988\n",
            "Epoch 90/100\n",
            "484/484 [==============================] - 5s 10ms/step - loss: 2.1050 - accuracy: 0.4979\n",
            "Epoch 91/100\n",
            "484/484 [==============================] - 5s 10ms/step - loss: 2.0922 - accuracy: 0.5027\n",
            "Epoch 92/100\n",
            "484/484 [==============================] - 5s 10ms/step - loss: 2.0771 - accuracy: 0.5057\n",
            "Epoch 93/100\n",
            "484/484 [==============================] - 5s 10ms/step - loss: 2.0767 - accuracy: 0.5102\n",
            "Epoch 94/100\n",
            "484/484 [==============================] - 5s 10ms/step - loss: 2.0447 - accuracy: 0.5111\n",
            "Epoch 95/100\n",
            "484/484 [==============================] - 5s 10ms/step - loss: 2.0425 - accuracy: 0.5096\n",
            "Epoch 96/100\n",
            "484/484 [==============================] - 5s 10ms/step - loss: 2.0228 - accuracy: 0.5147\n",
            "Epoch 97/100\n",
            "484/484 [==============================] - 5s 10ms/step - loss: 2.0124 - accuracy: 0.5197\n",
            "Epoch 98/100\n",
            "484/484 [==============================] - 5s 10ms/step - loss: 2.0019 - accuracy: 0.5242\n",
            "Epoch 99/100\n",
            "484/484 [==============================] - 5s 10ms/step - loss: 1.9834 - accuracy: 0.5230\n",
            "Epoch 100/100\n",
            "484/484 [==============================] - 5s 11ms/step - loss: 1.9627 - accuracy: 0.5268\n"
          ],
          "name": "stdout"
        }
      ]
    },
    {
      "cell_type": "code",
      "metadata": {
        "colab_type": "code",
        "id": "1fXTEO3GJ282",
        "outputId": "966ca4df-5e83-4e68-8249-9c2ef5c82571",
        "colab": {
          "base_uri": "https://localhost:8080/",
          "height": 545
        }
      },
      "source": [
        "import matplotlib.pyplot as plt\n",
        "acc = history.history['accuracy']\n",
        "loss = history.history['loss']\n",
        "\n",
        "epochs = range(len(acc))\n",
        "\n",
        "plt.plot(epochs, acc, 'b', label='Training accuracy')\n",
        "plt.title('Training accuracy')\n",
        "\n",
        "plt.figure()\n",
        "\n",
        "plt.plot(epochs, loss, 'b', label='Training Loss')\n",
        "plt.title('Training loss')\n",
        "plt.legend()\n",
        "\n",
        "plt.show()"
      ],
      "execution_count": 0,
      "outputs": [
        {
          "output_type": "display_data",
          "data": {
            "image/png": "[encoded data removed]",
            "text/plain": [
              "<Figure size 432x288 with 1 Axes>"
            ]
          },
          "metadata": {
            "tags": [],
            "needs_background": "light"
          }
        },
        {
          "output_type": "display_data",
          "data": {
            "image/png": "[encoded data removed]",
            "text/plain": [
              "<Figure size 432x288 with 1 Axes>"
            ]
          },
          "metadata": {
            "tags": [],
            "needs_background": "light"
          }
        }
      ]
    },
    {
      "cell_type": "code",
      "metadata": {
        "colab_type": "code",
        "id": "6Vc6PHgxa6Hm",
        "outputId": "6e3b7bea-6947-4788-b1ad-dceef3a02faa",
        "colab": {
          "base_uri": "https://localhost:8080/",
          "height": 105
        }
      },
      "source": [
        "seed_text = \"Help me Obi Wan Kenobi, you're my only hope\"\n",
        "next_words = 100\n",
        "  \n",
        "for _ in range(next_words):\n",
        "\ttoken_list = tokenizer.texts_to_sequences([seed_text])[0]\n",
        "\ttoken_list = pad_sequences([token_list], maxlen=max_sequence_len-1, padding='pre')\n",
        "\tpredicted = model.predict_classes(token_list, verbose=0)\n",
        "\toutput_word = \"\"\n",
        "\tfor word, index in tokenizer.word_index.items():\n",
        "\t\tif index == predicted:\n",
        "\t\t\toutput_word = word\n",
        "\t\t\tbreak\n",
        "\tseed_text += \" \" + output_word\n",
        "print(seed_text)"
      ],
      "execution_count": 0,
      "outputs": [
        {
          "output_type": "stream",
          "text": [
            "WARNING:tensorflow:From <ipython-input-20-622d307fa19a>:7: Sequential.predict_classes (from tensorflow.python.keras.engine.sequential) is deprecated and will be removed after 2021-01-01.\n",
            "Instructions for updating:\n",
            "Please use instead:* `np.argmax(model.predict(x), axis=-1)`,   if your model does multi-class classification   (e.g. if it uses a `softmax` last-layer activation).* `(model.predict(x) > 0.5).astype(\"int32\")`,   if your model does binary classification   (e.g. if it uses a `sigmoid` last-layer activation).\n",
            "Help me Obi Wan Kenobi, you're my only hope virtue and thy way end new find true chase thee torn forth forth think to forth groan truth fire fire night night heaven lust sad tomb strange weeds wide defaced plot plot burn heart heart heart forth forth go dear rich greater force cover stand cover cover forth none grow truth heart forth life shall lie of the world hath so know so be twain swear lie of the world to nothing bring men swerving find open force cover forth forth lie with him to him so tell the heart that some lie so so she temperate thy friend had\n"
          ],
          "name": "stdout"
        }
      ]
    }
  ]
}